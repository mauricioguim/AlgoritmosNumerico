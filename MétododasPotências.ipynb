{
  "nbformat": 4,
  "nbformat_minor": 0,
  "metadata": {
    "colab": {
      "name": "Método das potências.ipynb",
      "provenance": [],
      "collapsed_sections": [],
      "authorship_tag": "ABX9TyMZbfgIxkSKdNUh5y9IGzFE",
      "include_colab_link": true
    },
    "kernelspec": {
      "name": "python3",
      "display_name": "Python 3"
    },
    "language_info": {
      "name": "python"
    }
  },
  "cells": [
    {
      "cell_type": "markdown",
      "metadata": {
        "id": "view-in-github",
        "colab_type": "text"
      },
      "source": [
        "<a href=\"https://colab.research.google.com/github/mauricioguim/AlgoritmosNumerico/blob/main/M%C3%A9tododasPot%C3%AAncias.ipynb\" target=\"_parent\"><img src=\"https://colab.research.google.com/assets/colab-badge.svg\" alt=\"Open In Colab\"/></a>"
      ]
    },
    {
      "cell_type": "markdown",
      "metadata": {
        "id": "uryBOhMO3dE8"
      },
      "source": [
        "**Método das Potências - Algoritmo Numéricos II**"
      ]
    },
    {
      "cell_type": "code",
      "metadata": {
        "id": "d8gyx2Cj8ndf"
      },
      "source": [
        "import numpy as np\n",
        "\n",
        "#Exemplo slide\n",
        "#A = [[-4, 14, 0], [-5, 13, 0], [-1, 0, 2]]\n",
        "\n",
        "#Exercícios\n",
        "A = np.array([[1,0,0], [1,1,-2], [0,1,-1]])\n",
        "#A = np.array([[3,2,1], [1,4,1], [1,2,3]])\n",
        "#A = np.array([[3,3,-2], [0,-1,0], [8,6,-5]])\n",
        "#A = np.array([[1,-1,0], [2,3,2], [1,1,2]])\n",
        "#A = np.array([[3,-1,-3], [0,2,-3], [0,0,-1]])\n",
        "#A = np.array([[1,2,1], [-1,3,1], [0,2,2]])\n",
        "\n",
        "X = [1,1,1]\n",
        "\n",
        "K = 0\n",
        "epsilon = 0.00001\n",
        "lambda0 = 0\n",
        "\n",
        "while True:\n",
        "  Z = np.dot(A, X)\n",
        "\n",
        "  lambda1 = np.max(Z)\n",
        "\n",
        "  X = Z / lambda1\n",
        "\n",
        "  K +=1\n",
        "\n",
        "  erro = np.abs(lambda1-lambda0)/np.abs(lambda1)\n",
        "\n",
        "  if (erro < epsilon or K > 100):\n",
        "    break\n",
        "\n",
        "  lambda0 = lambda1\n",
        "\n",
        "\n",
        "print(\"Iterações: \", K)\n",
        "print(\"\\n\")\n",
        "print(\"autovalor: \", lambda1)\n",
        "print(\"autovetor: \", X)\n",
        "print(\"\\n\\n\")"
      ],
      "execution_count": null,
      "outputs": []
    },
    {
      "cell_type": "markdown",
      "metadata": {
        "id": "ajL9Bd2A3Yg4"
      },
      "source": [
        "**Função Spec**"
      ]
    },
    {
      "cell_type": "code",
      "metadata": {
        "id": "RJPPgqHRtSBz"
      },
      "source": [
        "A = np.array([[1,0,0], [1,1,-2], [0,1,-1]])\n",
        "\n",
        "w, v = np.linalg.eig(A)\n",
        "  \n",
        "print(\"autovalor: \")\n",
        "print(w)\n",
        "print(\"\\n\")\n",
        "print(\"autovetor: \")\n",
        "print(v)"
      ],
      "execution_count": null,
      "outputs": []
    }
  ]
}