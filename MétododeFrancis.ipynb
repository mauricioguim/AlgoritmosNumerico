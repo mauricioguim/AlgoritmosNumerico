{
  "nbformat": 4,
  "nbformat_minor": 0,
  "metadata": {
    "colab": {
      "name": "MétododeFrancis.ipynb",
      "provenance": [],
      "authorship_tag": "ABX9TyOw7L/0h9kpqzv7cMRL8dhp",
      "include_colab_link": true
    },
    "kernelspec": {
      "name": "python3",
      "display_name": "Python 3"
    },
    "language_info": {
      "name": "python"
    }
  },
  "cells": [
    {
      "cell_type": "markdown",
      "metadata": {
        "id": "view-in-github",
        "colab_type": "text"
      },
      "source": [
        "<a href=\"https://colab.research.google.com/github/mauricioguim/AlgoritmosNumerico/blob/main/M%C3%A9tododeFrancis.ipynb\" target=\"_parent\"><img src=\"https://colab.research.google.com/assets/colab-badge.svg\" alt=\"Open In Colab\"/></a>"
      ]
    },
    {
      "cell_type": "markdown",
      "metadata": {
        "id": "czgTjceMdS_6"
      },
      "source": [
        "**Método de Francis - Algoritmos Numéricos II**"
      ]
    },
    {
      "cell_type": "code",
      "metadata": {
        "id": "6nAz7XCGckb3"
      },
      "source": [
        "import numpy as np\n",
        "\n",
        "precisao = 0.00001\n",
        "\n",
        "#Exemplo da aula/Classroom\n",
        "A = [[1,2,1], [-1,3,1], [0,2,2]]\n",
        "\n",
        "#Exercícios\n",
        "#A = [[7,3,1], [-1,4,1], [9,1,-1]] # A\n",
        "#A = [[1,2,1], [-1,3,1], [0,2,2]] # B\n",
        "#A = [[3,2,1], [-1,8,1], [9,-2,2]] # C\n",
        "#A = [[3,2,1], [1,4,1], [1,2,3]] # D\n",
        "\n",
        "MaxD = max(abs(np.array([A[1][0], A[2][0], A[2][1]])))\n",
        "\n",
        "K = 0\n",
        "\n",
        "while True:\n",
        "  \n",
        "    C = (A[0][0])/np.sqrt(A[0][0]**2 + A[1][0]**2)\n",
        "    S = (A[1][0])/np.sqrt(A[0][0]**2 + A[1][0]**2)\n",
        "    U = [[C,S,0],[-S,C,0],[0,0,1]]\n",
        "  \n",
        "    R = np.dot(U, A)\n",
        "    Q = np.transpose(U)\n",
        "    A = np.dot(R, Q)\n",
        "\n",
        "    C = (A[0][0])/np.sqrt(A[0][0]**2 + A[2][0]**2)\n",
        "    S = (A[2][0])/np.sqrt(A[0][0]**2 + A[2][0]**2)\n",
        "    U = [[C,0,S], [0,1,0], [-S,0,C]]\n",
        "\n",
        "    R = np.dot(U, A)\n",
        "    Q = np.transpose(U)\n",
        "    A = np.dot(R, Q)\n",
        "\n",
        "    C = (A[1][1])/np.sqrt(A[1][1]**2 + A[2][1]**2)\n",
        "    S = (A[2][1])/np.sqrt(A[1][1]**2 + A[2][1]**2)\n",
        "    U = [[1,0,0], [0,C,S], [0,-S,C]]\n",
        "  \n",
        "    R = np.dot(U, A)\n",
        "    Q = np.transpose(U)\n",
        "    A = np.dot(R, Q)\n",
        "\n",
        "    MaxD = max(abs(np.array([A[1][0], A[2][0], A[2][1]])))\n",
        "  \n",
        "    K += 1\n",
        "\n",
        "    if MaxD <= precisao or K >= 100:\n",
        "      break\n",
        "\n",
        "print(\"Iterações: \", K)\n",
        "print(\"\\n\")\n",
        "print(\"Matriz A:\")\n",
        "print(A)\n",
        "print(\"\\n\")\n",
        "print(\"Matriz diagonal: \", A[0][0], A[1][1], A[2][2])"
      ],
      "execution_count": null,
      "outputs": []
    },
    {
      "cell_type": "markdown",
      "metadata": {
        "id": "zvNLWCd5ipqL"
      },
      "source": [
        "**Função Spec**"
      ]
    },
    {
      "cell_type": "code",
      "metadata": {
        "id": "N5Du1AmAemdQ"
      },
      "source": [
        "A = [[1,2,1], [-1,3,1], [0,2,2]]\n",
        "\n",
        "print('Spec: ', np.linalg.eigvals(A),'\\n\\n')"
      ],
      "execution_count": null,
      "outputs": []
    }
  ]
}